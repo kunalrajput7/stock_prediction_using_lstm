{
  "nbformat": 4,
  "nbformat_minor": 0,
  "metadata": {
    "colab": {
      "provenance": []
    },
    "kernelspec": {
      "name": "python3",
      "display_name": "Python 3"
    },
    "language_info": {
      "name": "python"
    }
  },
  "cells": [
    {
      "cell_type": "code",
      "execution_count": 59,
      "metadata": {
        "id": "atfK4f3Un3D9"
      },
      "outputs": [],
      "source": [
        "import pandas_datareader as pdr"
      ]
    },
    {
      "cell_type": "markdown",
      "source": [
        "Using my personal generated API KEY from the Tiingo Documentation."
      ],
      "metadata": {
        "id": "jUgpSzDPumhA"
      }
    },
    {
      "cell_type": "code",
      "source": [
        "# fetching the Apple stock details from the Tiingo API  using the datareader library\n",
        "df = pdr.get_data_tiingo('AAPL', api_key='ac20fb375a917594a20e241bdd5cd75be2f9f032')"
      ],
      "metadata": {
        "colab": {
          "base_uri": "https://localhost:8080/"
        },
        "id": "v_-I-XZ3n8xy",
        "outputId": "17eb6902-21f2-4909-98e2-ca97e86703c8"
      },
      "execution_count": 60,
      "outputs": [
        {
          "output_type": "stream",
          "name": "stderr",
          "text": [
            "<ipython-input-60-bf5ab711ee58>:2: FutureWarning: In a future version of pandas all arguments of concat except for the argument 'objs' will be keyword-only.\n",
            "  df = pdr.get_data_tiingo('AAPL', api_key='ac20fb375a917594a20e241bdd5cd75be2f9f032')\n"
          ]
        }
      ]
    },
    {
      "cell_type": "code",
      "source": [
        "# converting the fetched data into a readable tabular CSV file\n",
        "df.to_csv('AAPL.csv')\n",
        "df.head()"
      ],
      "metadata": {
        "colab": {
          "base_uri": "https://localhost:8080/",
          "height": 237
        },
        "id": "8xq3Mxa8oOjh",
        "outputId": "a2c26db8-235c-4df7-8818-0d92367e73bf"
      },
      "execution_count": 61,
      "outputs": [
        {
          "output_type": "execute_result",
          "data": {
            "text/plain": [
              "                                   close    high     low    open    volume  \\\n",
              "symbol date                                                                  \n",
              "AAPL   2019-03-14 00:00:00+00:00  183.73  184.10  182.56  183.90  23579508   \n",
              "       2019-03-15 00:00:00+00:00  186.12  187.33  183.74  184.85  39042912   \n",
              "       2019-03-18 00:00:00+00:00  188.02  188.39  185.79  185.80  26219832   \n",
              "       2019-03-19 00:00:00+00:00  186.53  188.99  185.92  188.35  31646369   \n",
              "       2019-03-20 00:00:00+00:00  188.16  189.49  184.73  186.23  31035231   \n",
              "\n",
              "                                   adjClose    adjHigh     adjLow    adjOpen  \\\n",
              "symbol date                                                                    \n",
              "AAPL   2019-03-14 00:00:00+00:00  44.217786  44.306833  43.936205  44.258699   \n",
              "       2019-03-15 00:00:00+00:00  44.792981  45.084188  44.220193  44.487333   \n",
              "       2019-03-18 00:00:00+00:00  45.250248  45.339295  44.713560  44.715967   \n",
              "       2019-03-19 00:00:00+00:00  44.891654  45.483695  44.744847  45.329668   \n",
              "       2019-03-20 00:00:00+00:00  45.283942  45.604029  44.458453  44.819454   \n",
              "\n",
              "                                  adjVolume  divCash  splitFactor  \n",
              "symbol date                                                        \n",
              "AAPL   2019-03-14 00:00:00+00:00   94318032      0.0          1.0  \n",
              "       2019-03-15 00:00:00+00:00  156171648      0.0          1.0  \n",
              "       2019-03-18 00:00:00+00:00  104879328      0.0          1.0  \n",
              "       2019-03-19 00:00:00+00:00  126585476      0.0          1.0  \n",
              "       2019-03-20 00:00:00+00:00  124140924      0.0          1.0  "
            ],
            "text/html": [
              "\n",
              "  <div id=\"df-5fe33444-1d5a-4081-b1ef-2ec5ad25fe16\" class=\"colab-df-container\">\n",
              "    <div>\n",
              "<style scoped>\n",
              "    .dataframe tbody tr th:only-of-type {\n",
              "        vertical-align: middle;\n",
              "    }\n",
              "\n",
              "    .dataframe tbody tr th {\n",
              "        vertical-align: top;\n",
              "    }\n",
              "\n",
              "    .dataframe thead th {\n",
              "        text-align: right;\n",
              "    }\n",
              "</style>\n",
              "<table border=\"1\" class=\"dataframe\">\n",
              "  <thead>\n",
              "    <tr style=\"text-align: right;\">\n",
              "      <th></th>\n",
              "      <th></th>\n",
              "      <th>close</th>\n",
              "      <th>high</th>\n",
              "      <th>low</th>\n",
              "      <th>open</th>\n",
              "      <th>volume</th>\n",
              "      <th>adjClose</th>\n",
              "      <th>adjHigh</th>\n",
              "      <th>adjLow</th>\n",
              "      <th>adjOpen</th>\n",
              "      <th>adjVolume</th>\n",
              "      <th>divCash</th>\n",
              "      <th>splitFactor</th>\n",
              "    </tr>\n",
              "    <tr>\n",
              "      <th>symbol</th>\n",
              "      <th>date</th>\n",
              "      <th></th>\n",
              "      <th></th>\n",
              "      <th></th>\n",
              "      <th></th>\n",
              "      <th></th>\n",
              "      <th></th>\n",
              "      <th></th>\n",
              "      <th></th>\n",
              "      <th></th>\n",
              "      <th></th>\n",
              "      <th></th>\n",
              "      <th></th>\n",
              "    </tr>\n",
              "  </thead>\n",
              "  <tbody>\n",
              "    <tr>\n",
              "      <th rowspan=\"5\" valign=\"top\">AAPL</th>\n",
              "      <th>2019-03-14 00:00:00+00:00</th>\n",
              "      <td>183.73</td>\n",
              "      <td>184.10</td>\n",
              "      <td>182.56</td>\n",
              "      <td>183.90</td>\n",
              "      <td>23579508</td>\n",
              "      <td>44.217786</td>\n",
              "      <td>44.306833</td>\n",
              "      <td>43.936205</td>\n",
              "      <td>44.258699</td>\n",
              "      <td>94318032</td>\n",
              "      <td>0.0</td>\n",
              "      <td>1.0</td>\n",
              "    </tr>\n",
              "    <tr>\n",
              "      <th>2019-03-15 00:00:00+00:00</th>\n",
              "      <td>186.12</td>\n",
              "      <td>187.33</td>\n",
              "      <td>183.74</td>\n",
              "      <td>184.85</td>\n",
              "      <td>39042912</td>\n",
              "      <td>44.792981</td>\n",
              "      <td>45.084188</td>\n",
              "      <td>44.220193</td>\n",
              "      <td>44.487333</td>\n",
              "      <td>156171648</td>\n",
              "      <td>0.0</td>\n",
              "      <td>1.0</td>\n",
              "    </tr>\n",
              "    <tr>\n",
              "      <th>2019-03-18 00:00:00+00:00</th>\n",
              "      <td>188.02</td>\n",
              "      <td>188.39</td>\n",
              "      <td>185.79</td>\n",
              "      <td>185.80</td>\n",
              "      <td>26219832</td>\n",
              "      <td>45.250248</td>\n",
              "      <td>45.339295</td>\n",
              "      <td>44.713560</td>\n",
              "      <td>44.715967</td>\n",
              "      <td>104879328</td>\n",
              "      <td>0.0</td>\n",
              "      <td>1.0</td>\n",
              "    </tr>\n",
              "    <tr>\n",
              "      <th>2019-03-19 00:00:00+00:00</th>\n",
              "      <td>186.53</td>\n",
              "      <td>188.99</td>\n",
              "      <td>185.92</td>\n",
              "      <td>188.35</td>\n",
              "      <td>31646369</td>\n",
              "      <td>44.891654</td>\n",
              "      <td>45.483695</td>\n",
              "      <td>44.744847</td>\n",
              "      <td>45.329668</td>\n",
              "      <td>126585476</td>\n",
              "      <td>0.0</td>\n",
              "      <td>1.0</td>\n",
              "    </tr>\n",
              "    <tr>\n",
              "      <th>2019-03-20 00:00:00+00:00</th>\n",
              "      <td>188.16</td>\n",
              "      <td>189.49</td>\n",
              "      <td>184.73</td>\n",
              "      <td>186.23</td>\n",
              "      <td>31035231</td>\n",
              "      <td>45.283942</td>\n",
              "      <td>45.604029</td>\n",
              "      <td>44.458453</td>\n",
              "      <td>44.819454</td>\n",
              "      <td>124140924</td>\n",
              "      <td>0.0</td>\n",
              "      <td>1.0</td>\n",
              "    </tr>\n",
              "  </tbody>\n",
              "</table>\n",
              "</div>\n",
              "    <div class=\"colab-df-buttons\">\n",
              "\n",
              "  <div class=\"colab-df-container\">\n",
              "    <button class=\"colab-df-convert\" onclick=\"convertToInteractive('df-5fe33444-1d5a-4081-b1ef-2ec5ad25fe16')\"\n",
              "            title=\"Convert this dataframe to an interactive table.\"\n",
              "            style=\"display:none;\">\n",
              "\n",
              "  <svg xmlns=\"http://www.w3.org/2000/svg\" height=\"24px\" viewBox=\"0 -960 960 960\">\n",
              "    <path d=\"M120-120v-720h720v720H120Zm60-500h600v-160H180v160Zm220 220h160v-160H400v160Zm0 220h160v-160H400v160ZM180-400h160v-160H180v160Zm440 0h160v-160H620v160ZM180-180h160v-160H180v160Zm440 0h160v-160H620v160Z\"/>\n",
              "  </svg>\n",
              "    </button>\n",
              "\n",
              "  <style>\n",
              "    .colab-df-container {\n",
              "      display:flex;\n",
              "      gap: 12px;\n",
              "    }\n",
              "\n",
              "    .colab-df-convert {\n",
              "      background-color: #E8F0FE;\n",
              "      border: none;\n",
              "      border-radius: 50%;\n",
              "      cursor: pointer;\n",
              "      display: none;\n",
              "      fill: #1967D2;\n",
              "      height: 32px;\n",
              "      padding: 0 0 0 0;\n",
              "      width: 32px;\n",
              "    }\n",
              "\n",
              "    .colab-df-convert:hover {\n",
              "      background-color: #E2EBFA;\n",
              "      box-shadow: 0px 1px 2px rgba(60, 64, 67, 0.3), 0px 1px 3px 1px rgba(60, 64, 67, 0.15);\n",
              "      fill: #174EA6;\n",
              "    }\n",
              "\n",
              "    .colab-df-buttons div {\n",
              "      margin-bottom: 4px;\n",
              "    }\n",
              "\n",
              "    [theme=dark] .colab-df-convert {\n",
              "      background-color: #3B4455;\n",
              "      fill: #D2E3FC;\n",
              "    }\n",
              "\n",
              "    [theme=dark] .colab-df-convert:hover {\n",
              "      background-color: #434B5C;\n",
              "      box-shadow: 0px 1px 3px 1px rgba(0, 0, 0, 0.15);\n",
              "      filter: drop-shadow(0px 1px 2px rgba(0, 0, 0, 0.3));\n",
              "      fill: #FFFFFF;\n",
              "    }\n",
              "  </style>\n",
              "\n",
              "    <script>\n",
              "      const buttonEl =\n",
              "        document.querySelector('#df-5fe33444-1d5a-4081-b1ef-2ec5ad25fe16 button.colab-df-convert');\n",
              "      buttonEl.style.display =\n",
              "        google.colab.kernel.accessAllowed ? 'block' : 'none';\n",
              "\n",
              "      async function convertToInteractive(key) {\n",
              "        const element = document.querySelector('#df-5fe33444-1d5a-4081-b1ef-2ec5ad25fe16');\n",
              "        const dataTable =\n",
              "          await google.colab.kernel.invokeFunction('convertToInteractive',\n",
              "                                                    [key], {});\n",
              "        if (!dataTable) return;\n",
              "\n",
              "        const docLinkHtml = 'Like what you see? Visit the ' +\n",
              "          '<a target=\"_blank\" href=https://colab.research.google.com/notebooks/data_table.ipynb>data table notebook</a>'\n",
              "          + ' to learn more about interactive tables.';\n",
              "        element.innerHTML = '';\n",
              "        dataTable['output_type'] = 'display_data';\n",
              "        await google.colab.output.renderOutput(dataTable, element);\n",
              "        const docLink = document.createElement('div');\n",
              "        docLink.innerHTML = docLinkHtml;\n",
              "        element.appendChild(docLink);\n",
              "      }\n",
              "    </script>\n",
              "  </div>\n",
              "\n",
              "\n",
              "<div id=\"df-4579d2cb-75a7-4558-8145-386965a57f70\">\n",
              "  <button class=\"colab-df-quickchart\" onclick=\"quickchart('df-4579d2cb-75a7-4558-8145-386965a57f70')\"\n",
              "            title=\"Suggest charts\"\n",
              "            style=\"display:none;\">\n",
              "\n",
              "<svg xmlns=\"http://www.w3.org/2000/svg\" height=\"24px\"viewBox=\"0 0 24 24\"\n",
              "     width=\"24px\">\n",
              "    <g>\n",
              "        <path d=\"M19 3H5c-1.1 0-2 .9-2 2v14c0 1.1.9 2 2 2h14c1.1 0 2-.9 2-2V5c0-1.1-.9-2-2-2zM9 17H7v-7h2v7zm4 0h-2V7h2v10zm4 0h-2v-4h2v4z\"/>\n",
              "    </g>\n",
              "</svg>\n",
              "  </button>\n",
              "\n",
              "<style>\n",
              "  .colab-df-quickchart {\n",
              "      --bg-color: #E8F0FE;\n",
              "      --fill-color: #1967D2;\n",
              "      --hover-bg-color: #E2EBFA;\n",
              "      --hover-fill-color: #174EA6;\n",
              "      --disabled-fill-color: #AAA;\n",
              "      --disabled-bg-color: #DDD;\n",
              "  }\n",
              "\n",
              "  [theme=dark] .colab-df-quickchart {\n",
              "      --bg-color: #3B4455;\n",
              "      --fill-color: #D2E3FC;\n",
              "      --hover-bg-color: #434B5C;\n",
              "      --hover-fill-color: #FFFFFF;\n",
              "      --disabled-bg-color: #3B4455;\n",
              "      --disabled-fill-color: #666;\n",
              "  }\n",
              "\n",
              "  .colab-df-quickchart {\n",
              "    background-color: var(--bg-color);\n",
              "    border: none;\n",
              "    border-radius: 50%;\n",
              "    cursor: pointer;\n",
              "    display: none;\n",
              "    fill: var(--fill-color);\n",
              "    height: 32px;\n",
              "    padding: 0;\n",
              "    width: 32px;\n",
              "  }\n",
              "\n",
              "  .colab-df-quickchart:hover {\n",
              "    background-color: var(--hover-bg-color);\n",
              "    box-shadow: 0 1px 2px rgba(60, 64, 67, 0.3), 0 1px 3px 1px rgba(60, 64, 67, 0.15);\n",
              "    fill: var(--button-hover-fill-color);\n",
              "  }\n",
              "\n",
              "  .colab-df-quickchart-complete:disabled,\n",
              "  .colab-df-quickchart-complete:disabled:hover {\n",
              "    background-color: var(--disabled-bg-color);\n",
              "    fill: var(--disabled-fill-color);\n",
              "    box-shadow: none;\n",
              "  }\n",
              "\n",
              "  .colab-df-spinner {\n",
              "    border: 2px solid var(--fill-color);\n",
              "    border-color: transparent;\n",
              "    border-bottom-color: var(--fill-color);\n",
              "    animation:\n",
              "      spin 1s steps(1) infinite;\n",
              "  }\n",
              "\n",
              "  @keyframes spin {\n",
              "    0% {\n",
              "      border-color: transparent;\n",
              "      border-bottom-color: var(--fill-color);\n",
              "      border-left-color: var(--fill-color);\n",
              "    }\n",
              "    20% {\n",
              "      border-color: transparent;\n",
              "      border-left-color: var(--fill-color);\n",
              "      border-top-color: var(--fill-color);\n",
              "    }\n",
              "    30% {\n",
              "      border-color: transparent;\n",
              "      border-left-color: var(--fill-color);\n",
              "      border-top-color: var(--fill-color);\n",
              "      border-right-color: var(--fill-color);\n",
              "    }\n",
              "    40% {\n",
              "      border-color: transparent;\n",
              "      border-right-color: var(--fill-color);\n",
              "      border-top-color: var(--fill-color);\n",
              "    }\n",
              "    60% {\n",
              "      border-color: transparent;\n",
              "      border-right-color: var(--fill-color);\n",
              "    }\n",
              "    80% {\n",
              "      border-color: transparent;\n",
              "      border-right-color: var(--fill-color);\n",
              "      border-bottom-color: var(--fill-color);\n",
              "    }\n",
              "    90% {\n",
              "      border-color: transparent;\n",
              "      border-bottom-color: var(--fill-color);\n",
              "    }\n",
              "  }\n",
              "</style>\n",
              "\n",
              "  <script>\n",
              "    async function quickchart(key) {\n",
              "      const quickchartButtonEl =\n",
              "        document.querySelector('#' + key + ' button');\n",
              "      quickchartButtonEl.disabled = true;  // To prevent multiple clicks.\n",
              "      quickchartButtonEl.classList.add('colab-df-spinner');\n",
              "      try {\n",
              "        const charts = await google.colab.kernel.invokeFunction(\n",
              "            'suggestCharts', [key], {});\n",
              "      } catch (error) {\n",
              "        console.error('Error during call to suggestCharts:', error);\n",
              "      }\n",
              "      quickchartButtonEl.classList.remove('colab-df-spinner');\n",
              "      quickchartButtonEl.classList.add('colab-df-quickchart-complete');\n",
              "    }\n",
              "    (() => {\n",
              "      let quickchartButtonEl =\n",
              "        document.querySelector('#df-4579d2cb-75a7-4558-8145-386965a57f70 button');\n",
              "      quickchartButtonEl.style.display =\n",
              "        google.colab.kernel.accessAllowed ? 'block' : 'none';\n",
              "    })();\n",
              "  </script>\n",
              "</div>\n",
              "\n",
              "    </div>\n",
              "  </div>\n"
            ],
            "application/vnd.google.colaboratory.intrinsic+json": {
              "type": "dataframe",
              "variable_name": "df",
              "summary": "{\n  \"name\": \"df\",\n  \"rows\": 1257,\n  \"fields\": [\n    {\n      \"column\": \"close\",\n      \"properties\": {\n        \"dtype\": \"number\",\n        \"std\": 69.16003087802899,\n        \"min\": 106.84,\n        \"max\": 506.09,\n        \"num_unique_values\": 1199,\n        \"samples\": [\n          189.41,\n          150.43,\n          203.43\n        ],\n        \"semantic_type\": \"\",\n        \"description\": \"\"\n      }\n    },\n    {\n      \"column\": \"high\",\n      \"properties\": {\n        \"dtype\": \"number\",\n        \"std\": 69.804731650689,\n        \"min\": 110.19,\n        \"max\": 515.14,\n        \"num_unique_values\": 1208,\n        \"samples\": [\n          199.56,\n          179.61,\n          345.61\n        ],\n        \"semantic_type\": \"\",\n        \"description\": \"\"\n      }\n    },\n    {\n      \"column\": \"low\",\n      \"properties\": {\n        \"dtype\": \"number\",\n        \"std\": 68.16652536488606,\n        \"min\": 103.1,\n        \"max\": 500.33,\n        \"num_unique_values\": 1224,\n        \"samples\": [\n          150.0601,\n          318.75,\n          242.88\n        ],\n        \"semantic_type\": \"\",\n        \"description\": \"\"\n      }\n    },\n    {\n      \"column\": \"open\",\n      \"properties\": {\n        \"dtype\": \"number\",\n        \"std\": 68.87722070229671,\n        \"min\": 104.54,\n        \"max\": 514.79,\n        \"num_unique_values\": 1205,\n        \"samples\": [\n          199.62,\n          148.03,\n          332.14\n        ],\n        \"semantic_type\": \"\",\n        \"description\": \"\"\n      }\n    },\n    {\n      \"column\": \"volume\",\n      \"properties\": {\n        \"dtype\": \"number\",\n        \"std\": 38124879,\n        \"min\": 11362045,\n        \"max\": 332607163,\n        \"num_unique_values\": 1257,\n        \"samples\": [\n          89004195,\n          33364400,\n          27948160\n        ],\n        \"semantic_type\": \"\",\n        \"description\": \"\"\n      }\n    },\n    {\n      \"column\": \"adjClose\",\n      \"properties\": {\n        \"dtype\": \"number\",\n        \"std\": 45.25114731451162,\n        \"min\": 41.8704978331,\n        \"max\": 197.8585514834,\n        \"num_unique_values\": 1245,\n        \"samples\": [\n          162.4688455021,\n          125.5047991309,\n          182.4429388124\n        ],\n        \"semantic_type\": \"\",\n        \"description\": \"\"\n      }\n    },\n    {\n      \"column\": \"adjHigh\",\n      \"properties\": {\n        \"dtype\": \"number\",\n        \"std\": 45.60388822755186,\n        \"min\": 42.9867222993,\n        \"max\": 199.3666349357,\n        \"num_unique_values\": 1245,\n        \"samples\": [\n          164.2782295531,\n          126.702139254,\n          189.494885548\n        ],\n        \"semantic_type\": \"\",\n        \"description\": \"\"\n      }\n    },\n    {\n      \"column\": \"adjLow\",\n      \"properties\": {\n        \"dtype\": \"number\",\n        \"std\": 44.86459707803464,\n        \"min\": 41.1384285403,\n        \"max\": 196.7499603363,\n        \"num_unique_values\": 1250,\n        \"samples\": [\n          162.4691405013,\n          176.3199888573,\n          111.8170579543\n        ],\n        \"semantic_type\": \"\",\n        \"description\": \"\"\n      }\n    },\n    {\n      \"column\": \"adjOpen\",\n      \"properties\": {\n        \"dtype\": \"number\",\n        \"std\": 45.23805811280023,\n        \"min\": 42.3875368715,\n        \"max\": 197.7686657147,\n        \"num_unique_values\": 1243,\n        \"samples\": [\n          141.6638442755,\n          157.9911325982,\n          159.6548388516\n        ],\n        \"semantic_type\": \"\",\n        \"description\": \"\"\n      }\n    },\n    {\n      \"column\": \"adjVolume\",\n      \"properties\": {\n        \"dtype\": \"number\",\n        \"std\": 52152013,\n        \"min\": 24048344,\n        \"max\": 426884920,\n        \"num_unique_values\": 1257,\n        \"samples\": [\n          89004195,\n          133457600,\n          111792640\n        ],\n        \"semantic_type\": \"\",\n        \"description\": \"\"\n      }\n    },\n    {\n      \"column\": \"divCash\",\n      \"properties\": {\n        \"dtype\": \"number\",\n        \"std\": 0.059097011199742595,\n        \"min\": 0.0,\n        \"max\": 0.82,\n        \"num_unique_values\": 7,\n        \"samples\": [\n          0.0,\n          0.77,\n          0.23\n        ],\n        \"semantic_type\": \"\",\n        \"description\": \"\"\n      }\n    },\n    {\n      \"column\": \"splitFactor\",\n      \"properties\": {\n        \"dtype\": \"number\",\n        \"std\": 0.08461621909897774,\n        \"min\": 1.0,\n        \"max\": 4.0,\n        \"num_unique_values\": 2,\n        \"samples\": [\n          4.0,\n          1.0\n        ],\n        \"semantic_type\": \"\",\n        \"description\": \"\"\n      }\n    }\n  ]\n}"
            }
          },
          "metadata": {},
          "execution_count": 61
        }
      ]
    },
    {
      "cell_type": "code",
      "source": [
        "import pandas as pd"
      ],
      "metadata": {
        "id": "xkaujLpPobQP"
      },
      "execution_count": 62,
      "outputs": []
    },
    {
      "cell_type": "code",
      "source": [
        "df = pd.read_csv('AAPL.csv')"
      ],
      "metadata": {
        "id": "Qde2Mvxnog-1"
      },
      "execution_count": 63,
      "outputs": []
    },
    {
      "cell_type": "code",
      "source": [
        "df1 = df.reset_index()['adjClose']"
      ],
      "metadata": {
        "id": "eZHSPU17oiOU"
      },
      "execution_count": 64,
      "outputs": []
    },
    {
      "cell_type": "code",
      "source": [
        "df1"
      ],
      "metadata": {
        "colab": {
          "base_uri": "https://localhost:8080/"
        },
        "id": "RKHVdXxPoixo",
        "outputId": "d82866ed-06a5-458c-9a8e-2f9f57e608ba"
      },
      "execution_count": 65,
      "outputs": [
        {
          "output_type": "execute_result",
          "data": {
            "text/plain": [
              "0        44.217786\n",
              "1        44.792981\n",
              "2        45.250248\n",
              "3        44.891654\n",
              "4        45.283942\n",
              "           ...    \n",
              "1252    170.120000\n",
              "1253    169.120000\n",
              "1254    169.000000\n",
              "1255    170.730000\n",
              "1256    172.750000\n",
              "Name: adjClose, Length: 1257, dtype: float64"
            ]
          },
          "metadata": {},
          "execution_count": 65
        }
      ]
    },
    {
      "cell_type": "code",
      "source": [
        "import matplotlib.pyplot as plt\n",
        "plt.plot(df1)"
      ],
      "metadata": {
        "colab": {
          "base_uri": "https://localhost:8080/",
          "height": 448
        },
        "id": "FF8EqQoDxqWw",
        "outputId": "78f59add-c406-459f-c75a-0b4b6444670b"
      },
      "execution_count": 66,
      "outputs": [
        {
          "output_type": "execute_result",
          "data": {
            "text/plain": [
              "[<matplotlib.lines.Line2D at 0x7e80c86e4490>]"
            ]
          },
          "metadata": {},
          "execution_count": 66
        },
        {
          "output_type": "display_data",
          "data": {
            "text/plain": [
              "<Figure size 640x480 with 1 Axes>"
            ],
            "image/png": "[encoded data removed]"
          },
          "metadata": {}
        }
      ]
    },
    {
      "cell_type": "markdown",
      "source": [
        "Note: The LSTM algorithm is very sensitive to the scale of the data. Hence, we convert all of our adjusted closing values within a range of [0 , 1] using the MinMaxScaler, so that it gets very easy for the algorithm to function."
      ],
      "metadata": {
        "id": "AopJiBCW1lHD"
      }
    },
    {
      "cell_type": "code",
      "source": [
        "import numpy as np\n",
        "from sklearn.preprocessing import MinMaxScaler\n",
        "scaler=MinMaxScaler(feature_range=(0,1))\n",
        "df1=scaler.fit_transform(np.array(df1).reshape(-1,1))\n",
        "# By performing this step our df1 values will be converted between [0,1] and stored in an array"
      ],
      "metadata": {
        "id": "sBIQ1DCO2WdO"
      },
      "execution_count": 67,
      "outputs": []
    },
    {
      "cell_type": "code",
      "source": [
        "df1"
      ],
      "metadata": {
        "colab": {
          "base_uri": "https://localhost:8080/"
        },
        "id": "99me0eKa4fDg",
        "outputId": "d4a1f26e-0382-44c6-a511-c3f2765cc7c6"
      },
      "execution_count": 68,
      "outputs": [
        {
          "output_type": "execute_result",
          "data": {
            "text/plain": [
              "array([[0.01504787],\n",
              "       [0.0187353 ],\n",
              "       [0.02166673],\n",
              "       ...,\n",
              "       [0.81499512],\n",
              "       [0.82608571],\n",
              "       [0.83903542]])"
            ]
          },
          "metadata": {},
          "execution_count": 68
        }
      ]
    },
    {
      "cell_type": "markdown",
      "source": [
        "Now so far, we have have collected and cleaned our data according to our requirements. Now we will preprocess the data for training and testing."
      ],
      "metadata": {
        "id": "SWwubcnu-zIB"
      }
    },
    {
      "cell_type": "markdown",
      "source": [
        "It is very important that for algorithm like LSTM [where the current values are dependant on the previous one] , when we are planning to preprocess the dataset we have, we must divide it into two parts.\n",
        "\n",
        "For eg:\n",
        "Training Data => 70-80%.\n",
        "Testing Data => remaining data.\n"
      ],
      "metadata": {
        "id": "QgDx41eI_j6V"
      }
    },
    {
      "cell_type": "code",
      "source": [
        "# here we split the data into training and testing data.\n",
        "\n",
        "training_size = int(len(df1)*0.70)\n",
        "testing_size = len(df1) - training_size\n",
        "\n",
        "train_data = df1[0:training_size]\n",
        "test_data = df1[training_size:len(df1),:1]"
      ],
      "metadata": {
        "id": "EqpQN8hS_9KE"
      },
      "execution_count": 69,
      "outputs": []
    },
    {
      "cell_type": "markdown",
      "source": [
        "Now here below, we start the data-preprocessing step. We simply convert the array of values into a dataset matrix.\n",
        "\n",
        "For example:\n",
        "df1 = [120, 130 ,132, 144, 158, 123] (array of values/features)\n",
        "\n",
        "if we consider, timestamp = 3\n",
        "\n",
        "output of [120, 130, 132] == 144,\n",
        "similarly [130, 132, 144] == 158\n",
        "\n",
        "So, the list of arrays is called x_train. And the list of corresponding output is called the y_train."
      ],
      "metadata": {
        "id": "qbuo5wjKtUBV"
      }
    },
    {
      "cell_type": "code",
      "source": [
        "import numpy as np\n",
        "\n",
        "def create_dataset(dataset, time_step=1):\n",
        "    dataX, dataY = [], []\n",
        "    for i in range(len(dataset) - time_step - 1):\n",
        "        a = dataset[i : (i + time_step), 0]\n",
        "        dataX.append(a)\n",
        "        dataY.append(dataset[i + time_step, 0])\n",
        "    return np.array(dataX), np.array(dataY)"
      ],
      "metadata": {
        "id": "IxfuCMO0tdCE"
      },
      "execution_count": 70,
      "outputs": []
    },
    {
      "cell_type": "code",
      "source": [
        "# reshaping into X = [t, t+1, t+2, t+3.... 100] and Y = 101\n",
        "# for training data as well as testing data, considering time_step = 100.\n",
        "\n",
        "time_step = 100\n",
        "X_train, y_train = create_dataset(train_data, time_step)\n",
        "X_test, ytest = create_dataset(test_data, time_step)"
      ],
      "metadata": {
        "id": "Kv9ooLO1wzpK"
      },
      "execution_count": 71,
      "outputs": []
    },
    {
      "cell_type": "code",
      "source": [
        "print(X_train.shape), print(y_train.shape)"
      ],
      "metadata": {
        "colab": {
          "base_uri": "https://localhost:8080/"
        },
        "id": "Kkc6ZaSB1QqV",
        "outputId": "ef3e4c44-4ac4-4bb1-a544-1cca544dbb99"
      },
      "execution_count": 72,
      "outputs": [
        {
          "output_type": "stream",
          "name": "stdout",
          "text": [
            "(778, 100)\n",
            "(778,)\n"
          ]
        },
        {
          "output_type": "execute_result",
          "data": {
            "text/plain": [
              "(None, None)"
            ]
          },
          "metadata": {},
          "execution_count": 72
        }
      ]
    },
    {
      "cell_type": "code",
      "source": [
        "print(X_test.shape), print(ytest.shape)"
      ],
      "metadata": {
        "colab": {
          "base_uri": "https://localhost:8080/"
        },
        "id": "JE9WYV7y1Y36",
        "outputId": "d52f8142-605c-48a9-839a-47b269e7efad"
      },
      "execution_count": 73,
      "outputs": [
        {
          "output_type": "stream",
          "name": "stdout",
          "text": [
            "(277, 100)\n",
            "(277,)\n"
          ]
        },
        {
          "output_type": "execute_result",
          "data": {
            "text/plain": [
              "(None, None)"
            ]
          },
          "metadata": {},
          "execution_count": 73
        }
      ]
    },
    {
      "cell_type": "markdown",
      "source": [
        "Before applying the LSTM algorithm we need to reshape our X train into a three dimensional dataset. We already have two, we need one more. Eg, above (778, 100), 778 is the number of data, 100 is the timestep, we need one more value to convert it into a three-dimensional dataset."
      ],
      "metadata": {
        "id": "mx-8Sp0l3CmN"
      }
    },
    {
      "cell_type": "code",
      "source": [
        "X_train = X_train.reshape(X_train.shape[0], X_train.shape[1], 1)\n",
        "X_test = X_test.reshape(X_test.shape[0], X_test.shape[1], 1)"
      ],
      "metadata": {
        "id": "2oJePOko3o1E"
      },
      "execution_count": 74,
      "outputs": []
    },
    {
      "cell_type": "code",
      "source": [
        "# Here we create our Stacked LSTM model\n",
        "\n",
        "from tensorflow.keras.models import Sequential\n",
        "from tensorflow.keras.layers import Dense\n",
        "from tensorflow.keras.layers import LSTM, Dropout"
      ],
      "metadata": {
        "id": "tfxwLlB04aqU"
      },
      "execution_count": 75,
      "outputs": []
    },
    {
      "cell_type": "code",
      "source": [
        "model=Sequential()\n",
        "\n",
        "model = Sequential()\n",
        "model.add(LSTM(100, return_sequences=True, input_shape=(X_train.shape[1], 1)))\n",
        "model.add(Dropout(0.2))\n",
        "model.add(LSTM(100, return_sequences=True))\n",
        "model.add(Dropout(0.2))\n",
        "model.add(LSTM(100))\n",
        "model.add(Dropout(0.2))\n",
        "model.add(Dense(1))\n",
        "\n",
        "model.compile(loss='mean_squared_error', optimizer='adam')"
      ],
      "metadata": {
        "id": "l2KBnXve5B17"
      },
      "execution_count": 76,
      "outputs": []
    },
    {
      "cell_type": "code",
      "source": [
        "model.summary()"
      ],
      "metadata": {
        "colab": {
          "base_uri": "https://localhost:8080/"
        },
        "id": "Dr2Umoat66YJ",
        "outputId": "9754aa2f-bb03-4a46-eb4c-c86585b676a2"
      },
      "execution_count": 77,
      "outputs": [
        {
          "output_type": "stream",
          "name": "stdout",
          "text": [
            "Model: \"sequential_5\"\n",
            "_________________________________________________________________\n",
            " Layer (type)                Output Shape              Param #   \n",
            "=================================================================\n",
            " lstm_9 (LSTM)               (None, 100, 100)          40800     \n",
            "                                                                 \n",
            " dropout_3 (Dropout)         (None, 100, 100)          0         \n",
            "                                                                 \n",
            " lstm_10 (LSTM)              (None, 100, 100)          80400     \n",
            "                                                                 \n",
            " dropout_4 (Dropout)         (None, 100, 100)          0         \n",
            "                                                                 \n",
            " lstm_11 (LSTM)              (None, 100)               80400     \n",
            "                                                                 \n",
            " dropout_5 (Dropout)         (None, 100)               0         \n",
            "                                                                 \n",
            " dense_3 (Dense)             (None, 1)                 101       \n",
            "                                                                 \n",
            "=================================================================\n",
            "Total params: 201701 (787.89 KB)\n",
            "Trainable params: 201701 (787.89 KB)\n",
            "Non-trainable params: 0 (0.00 Byte)\n",
            "_________________________________________________________________\n"
          ]
        }
      ]
    },
    {
      "cell_type": "markdown",
      "source": [
        "This line trains the model using the training data X_train and y_train, validates it using the validation data X_test and ytest, runs for 100 epochs(iterations), uses a batch size of 64, and displays a progress bar during training."
      ],
      "metadata": {
        "id": "K9opVjAH8DrS"
      }
    },
    {
      "cell_type": "code",
      "source": [
        "model.fit(X_train, y_train, validation_data=(X_test, ytest), epochs=100, batch_size=64, verbose=1)"
      ],
      "metadata": {
        "colab": {
          "base_uri": "https://localhost:8080/"
        },
        "id": "cpHL4R8H7Vp_",
        "outputId": "44267b15-28b0-465f-c9d4-c328873a4bde"
      },
      "execution_count": 78,
      "outputs": [
        {
          "output_type": "stream",
          "name": "stdout",
          "text": [
            "Epoch 1/100\n",
            "13/13 [==============================] - 17s 641ms/step - loss: 0.0672 - val_loss: 0.0346\n",
            "Epoch 2/100\n",
            "13/13 [==============================] - 8s 651ms/step - loss: 0.0099 - val_loss: 0.0395\n",
            "Epoch 3/100\n",
            "13/13 [==============================] - 7s 560ms/step - loss: 0.0064 - val_loss: 0.0079\n",
            "Epoch 4/100\n",
            "13/13 [==============================] - 8s 579ms/step - loss: 0.0039 - val_loss: 0.0022\n",
            "Epoch 5/100\n",
            "13/13 [==============================] - 8s 643ms/step - loss: 0.0032 - val_loss: 0.0018\n",
            "Epoch 6/100\n",
            "13/13 [==============================] - 8s 596ms/step - loss: 0.0034 - val_loss: 0.0020\n",
            "Epoch 7/100\n",
            "13/13 [==============================] - 8s 623ms/step - loss: 0.0031 - val_loss: 0.0028\n",
            "Epoch 8/100\n",
            "13/13 [==============================] - 8s 615ms/step - loss: 0.0032 - val_loss: 0.0021\n",
            "Epoch 9/100\n",
            "13/13 [==============================] - 6s 478ms/step - loss: 0.0030 - val_loss: 0.0021\n",
            "Epoch 10/100\n",
            "13/13 [==============================] - 8s 608ms/step - loss: 0.0027 - val_loss: 0.0022\n",
            "Epoch 11/100\n",
            "13/13 [==============================] - 6s 480ms/step - loss: 0.0030 - val_loss: 0.0038\n",
            "Epoch 12/100\n",
            "13/13 [==============================] - 8s 620ms/step - loss: 0.0029 - val_loss: 0.0036\n",
            "Epoch 13/100\n",
            "13/13 [==============================] - 7s 550ms/step - loss: 0.0032 - val_loss: 0.0026\n",
            "Epoch 14/100\n",
            "13/13 [==============================] - 8s 615ms/step - loss: 0.0031 - val_loss: 0.0021\n",
            "Epoch 15/100\n",
            "13/13 [==============================] - 7s 584ms/step - loss: 0.0029 - val_loss: 0.0068\n",
            "Epoch 16/100\n",
            "13/13 [==============================] - 7s 516ms/step - loss: 0.0033 - val_loss: 0.0012\n",
            "Epoch 17/100\n",
            "13/13 [==============================] - 7s 580ms/step - loss: 0.0029 - val_loss: 0.0020\n",
            "Epoch 18/100\n",
            "13/13 [==============================] - 6s 494ms/step - loss: 0.0024 - val_loss: 0.0023\n",
            "Epoch 19/100\n",
            "13/13 [==============================] - 8s 594ms/step - loss: 0.0024 - val_loss: 0.0012\n",
            "Epoch 20/100\n",
            "13/13 [==============================] - 6s 485ms/step - loss: 0.0028 - val_loss: 0.0045\n",
            "Epoch 21/100\n",
            "13/13 [==============================] - 7s 581ms/step - loss: 0.0026 - val_loss: 0.0012\n",
            "Epoch 22/100\n",
            "13/13 [==============================] - 7s 519ms/step - loss: 0.0029 - val_loss: 0.0041\n",
            "Epoch 23/100\n",
            "13/13 [==============================] - 7s 524ms/step - loss: 0.0025 - val_loss: 0.0011\n",
            "Epoch 24/100\n",
            "13/13 [==============================] - 7s 580ms/step - loss: 0.0026 - val_loss: 0.0041\n",
            "Epoch 25/100\n",
            "13/13 [==============================] - 6s 469ms/step - loss: 0.0026 - val_loss: 0.0011\n",
            "Epoch 26/100\n",
            "13/13 [==============================] - 7s 580ms/step - loss: 0.0026 - val_loss: 0.0018\n",
            "Epoch 27/100\n",
            "13/13 [==============================] - 6s 484ms/step - loss: 0.0026 - val_loss: 0.0027\n",
            "Epoch 28/100\n",
            "13/13 [==============================] - 7s 585ms/step - loss: 0.0026 - val_loss: 0.0013\n",
            "Epoch 29/100\n",
            "13/13 [==============================] - 6s 471ms/step - loss: 0.0023 - val_loss: 0.0012\n",
            "Epoch 30/100\n",
            "13/13 [==============================] - 7s 574ms/step - loss: 0.0022 - val_loss: 0.0021\n",
            "Epoch 31/100\n",
            "13/13 [==============================] - 6s 475ms/step - loss: 0.0023 - val_loss: 0.0011\n",
            "Epoch 32/100\n",
            "13/13 [==============================] - 7s 572ms/step - loss: 0.0025 - val_loss: 0.0024\n",
            "Epoch 33/100\n",
            "13/13 [==============================] - 6s 468ms/step - loss: 0.0022 - val_loss: 0.0010\n",
            "Epoch 34/100\n",
            "13/13 [==============================] - 8s 610ms/step - loss: 0.0024 - val_loss: 0.0049\n",
            "Epoch 35/100\n",
            "13/13 [==============================] - 9s 679ms/step - loss: 0.0027 - val_loss: 0.0018\n",
            "Epoch 36/100\n",
            "13/13 [==============================] - 6s 464ms/step - loss: 0.0027 - val_loss: 9.8765e-04\n",
            "Epoch 37/100\n",
            "13/13 [==============================] - 7s 585ms/step - loss: 0.0024 - val_loss: 0.0027\n",
            "Epoch 38/100\n",
            "13/13 [==============================] - 7s 545ms/step - loss: 0.0023 - val_loss: 0.0029\n",
            "Epoch 39/100\n",
            "13/13 [==============================] - 8s 629ms/step - loss: 0.0024 - val_loss: 0.0022\n",
            "Epoch 40/100\n",
            "13/13 [==============================] - 7s 530ms/step - loss: 0.0027 - val_loss: 0.0038\n",
            "Epoch 41/100\n",
            "13/13 [==============================] - 7s 494ms/step - loss: 0.0027 - val_loss: 9.5789e-04\n",
            "Epoch 42/100\n",
            "13/13 [==============================] - 9s 680ms/step - loss: 0.0025 - val_loss: 0.0036\n",
            "Epoch 43/100\n",
            "13/13 [==============================] - 6s 487ms/step - loss: 0.0022 - val_loss: 9.2791e-04\n",
            "Epoch 44/100\n",
            "13/13 [==============================] - 7s 587ms/step - loss: 0.0024 - val_loss: 0.0021\n",
            "Epoch 45/100\n",
            "13/13 [==============================] - 6s 475ms/step - loss: 0.0022 - val_loss: 0.0011\n",
            "Epoch 46/100\n",
            "13/13 [==============================] - 8s 604ms/step - loss: 0.0020 - val_loss: 0.0017\n",
            "Epoch 47/100\n",
            "13/13 [==============================] - 6s 470ms/step - loss: 0.0021 - val_loss: 0.0011\n",
            "Epoch 48/100\n",
            "13/13 [==============================] - 7s 589ms/step - loss: 0.0019 - val_loss: 0.0025\n",
            "Epoch 49/100\n",
            "13/13 [==============================] - 7s 529ms/step - loss: 0.0020 - val_loss: 0.0019\n",
            "Epoch 50/100\n",
            "13/13 [==============================] - 7s 504ms/step - loss: 0.0018 - val_loss: 0.0016\n",
            "Epoch 51/100\n",
            "13/13 [==============================] - 7s 575ms/step - loss: 0.0019 - val_loss: 0.0054\n",
            "Epoch 52/100\n",
            "13/13 [==============================] - 6s 475ms/step - loss: 0.0021 - val_loss: 0.0011\n",
            "Epoch 53/100\n",
            "13/13 [==============================] - 7s 579ms/step - loss: 0.0023 - val_loss: 0.0010\n",
            "Epoch 54/100\n",
            "13/13 [==============================] - 6s 484ms/step - loss: 0.0020 - val_loss: 0.0014\n",
            "Epoch 55/100\n",
            "13/13 [==============================] - 7s 581ms/step - loss: 0.0020 - val_loss: 0.0029\n",
            "Epoch 56/100\n",
            "13/13 [==============================] - 7s 524ms/step - loss: 0.0020 - val_loss: 0.0017\n",
            "Epoch 57/100\n",
            "13/13 [==============================] - 8s 628ms/step - loss: 0.0018 - val_loss: 8.7090e-04\n",
            "Epoch 58/100\n",
            "13/13 [==============================] - 7s 528ms/step - loss: 0.0021 - val_loss: 0.0023\n",
            "Epoch 59/100\n",
            "13/13 [==============================] - 7s 510ms/step - loss: 0.0018 - val_loss: 7.9884e-04\n",
            "Epoch 60/100\n",
            "13/13 [==============================] - 8s 591ms/step - loss: 0.0022 - val_loss: 0.0037\n",
            "Epoch 61/100\n",
            "13/13 [==============================] - 6s 465ms/step - loss: 0.0022 - val_loss: 9.2205e-04\n",
            "Epoch 62/100\n",
            "13/13 [==============================] - 7s 579ms/step - loss: 0.0017 - val_loss: 0.0013\n",
            "Epoch 63/100\n",
            "13/13 [==============================] - 6s 494ms/step - loss: 0.0017 - val_loss: 0.0016\n",
            "Epoch 64/100\n",
            "13/13 [==============================] - 8s 597ms/step - loss: 0.0019 - val_loss: 0.0034\n",
            "Epoch 65/100\n",
            "13/13 [==============================] - 7s 533ms/step - loss: 0.0019 - val_loss: 0.0021\n",
            "Epoch 66/100\n",
            "13/13 [==============================] - 8s 624ms/step - loss: 0.0018 - val_loss: 8.4646e-04\n",
            "Epoch 67/100\n",
            "13/13 [==============================] - 8s 665ms/step - loss: 0.0018 - val_loss: 0.0023\n",
            "Epoch 68/100\n",
            "13/13 [==============================] - 7s 534ms/step - loss: 0.0017 - val_loss: 0.0024\n",
            "Epoch 69/100\n",
            "13/13 [==============================] - 8s 671ms/step - loss: 0.0020 - val_loss: 8.4270e-04\n",
            "Epoch 70/100\n",
            "13/13 [==============================] - 6s 489ms/step - loss: 0.0018 - val_loss: 0.0033\n",
            "Epoch 71/100\n",
            "13/13 [==============================] - 8s 600ms/step - loss: 0.0016 - val_loss: 0.0015\n",
            "Epoch 72/100\n",
            "13/13 [==============================] - 7s 563ms/step - loss: 0.0020 - val_loss: 8.8342e-04\n",
            "Epoch 73/100\n",
            "13/13 [==============================] - 7s 478ms/step - loss: 0.0019 - val_loss: 0.0010\n",
            "Epoch 74/100\n",
            "13/13 [==============================] - 7s 574ms/step - loss: 0.0022 - val_loss: 0.0030\n",
            "Epoch 75/100\n",
            "13/13 [==============================] - 7s 531ms/step - loss: 0.0017 - val_loss: 0.0025\n",
            "Epoch 76/100\n",
            "13/13 [==============================] - 8s 586ms/step - loss: 0.0015 - val_loss: 7.8704e-04\n",
            "Epoch 77/100\n",
            "13/13 [==============================] - 7s 527ms/step - loss: 0.0016 - val_loss: 0.0014\n",
            "Epoch 78/100\n",
            "13/13 [==============================] - 8s 591ms/step - loss: 0.0016 - val_loss: 0.0022\n",
            "Epoch 79/100\n",
            "13/13 [==============================] - 7s 547ms/step - loss: 0.0017 - val_loss: 0.0011\n",
            "Epoch 80/100\n",
            "13/13 [==============================] - 7s 513ms/step - loss: 0.0016 - val_loss: 0.0011\n",
            "Epoch 81/100\n",
            "13/13 [==============================] - 8s 622ms/step - loss: 0.0017 - val_loss: 7.7444e-04\n",
            "Epoch 82/100\n",
            "13/13 [==============================] - 7s 544ms/step - loss: 0.0016 - val_loss: 0.0012\n",
            "Epoch 83/100\n",
            "13/13 [==============================] - 7s 577ms/step - loss: 0.0015 - val_loss: 7.0847e-04\n",
            "Epoch 84/100\n",
            "13/13 [==============================] - 6s 484ms/step - loss: 0.0016 - val_loss: 7.3916e-04\n",
            "Epoch 85/100\n",
            "13/13 [==============================] - 7s 580ms/step - loss: 0.0018 - val_loss: 0.0011\n",
            "Epoch 86/100\n",
            "13/13 [==============================] - 7s 533ms/step - loss: 0.0015 - val_loss: 6.6288e-04\n",
            "Epoch 87/100\n",
            "13/13 [==============================] - 8s 566ms/step - loss: 0.0015 - val_loss: 6.2696e-04\n",
            "Epoch 88/100\n",
            "13/13 [==============================] - 9s 690ms/step - loss: 0.0016 - val_loss: 0.0018\n",
            "Epoch 89/100\n",
            "13/13 [==============================] - 6s 471ms/step - loss: 0.0017 - val_loss: 0.0029\n",
            "Epoch 90/100\n",
            "13/13 [==============================] - 7s 573ms/step - loss: 0.0015 - val_loss: 7.5390e-04\n",
            "Epoch 91/100\n",
            "13/13 [==============================] - 6s 483ms/step - loss: 0.0020 - val_loss: 0.0011\n",
            "Epoch 92/100\n",
            "13/13 [==============================] - 7s 581ms/step - loss: 0.0020 - val_loss: 0.0014\n",
            "Epoch 93/100\n",
            "13/13 [==============================] - 6s 474ms/step - loss: 0.0016 - val_loss: 9.1137e-04\n",
            "Epoch 94/100\n",
            "13/13 [==============================] - 7s 585ms/step - loss: 0.0019 - val_loss: 0.0021\n",
            "Epoch 95/100\n",
            "13/13 [==============================] - 6s 502ms/step - loss: 0.0016 - val_loss: 7.2821e-04\n",
            "Epoch 96/100\n",
            "13/13 [==============================] - 7s 520ms/step - loss: 0.0016 - val_loss: 0.0041\n",
            "Epoch 97/100\n",
            "13/13 [==============================] - 7s 561ms/step - loss: 0.0016 - val_loss: 6.0024e-04\n",
            "Epoch 98/100\n",
            "13/13 [==============================] - 6s 472ms/step - loss: 0.0016 - val_loss: 0.0012\n",
            "Epoch 99/100\n",
            "13/13 [==============================] - 7s 580ms/step - loss: 0.0014 - val_loss: 7.4334e-04\n",
            "Epoch 100/100\n",
            "13/13 [==============================] - 6s 478ms/step - loss: 0.0015 - val_loss: 6.9985e-04\n"
          ]
        },
        {
          "output_type": "execute_result",
          "data": {
            "text/plain": [
              "<keras.src.callbacks.History at 0x7e80cc70fe20>"
            ]
          },
          "metadata": {},
          "execution_count": 78
        }
      ]
    },
    {
      "cell_type": "code",
      "source": [
        "import tensorflow as tf\n",
        "tf.__version__"
      ],
      "metadata": {
        "colab": {
          "base_uri": "https://localhost:8080/",
          "height": 36
        },
        "id": "a1VJNsHk-V4E",
        "outputId": "71e2b376-0b3c-4394-e4be-ade600ae4172"
      },
      "execution_count": 79,
      "outputs": [
        {
          "output_type": "execute_result",
          "data": {
            "text/plain": [
              "'2.15.0'"
            ],
            "application/vnd.google.colaboratory.intrinsic+json": {
              "type": "string"
            }
          },
          "metadata": {},
          "execution_count": 79
        }
      ]
    },
    {
      "cell_type": "code",
      "source": [
        "# Here we will do the prediction and check the performance of our model using both, our test data as well as the train data.\n",
        "\n",
        "train_predict = model.predict(X_train)\n",
        "test_predict = model.predict(X_test)"
      ],
      "metadata": {
        "colab": {
          "base_uri": "https://localhost:8080/"
        },
        "id": "iZ2Z1NhM_35C",
        "outputId": "23b19ef3-0f58-419c-d919-53d72fc2d95c"
      },
      "execution_count": 80,
      "outputs": [
        {
          "output_type": "stream",
          "name": "stdout",
          "text": [
            "25/25 [==============================] - 3s 72ms/step\n",
            "9/9 [==============================] - 1s 99ms/step\n"
          ]
        }
      ]
    },
    {
      "cell_type": "code",
      "source": [
        "# Transforming the values back to the original form because earlier we had scaled the values within the range [o,1]\n",
        "\n",
        "train_predict = scaler.inverse_transform(train_predict)\n",
        "test_predict = scaler.inverse_transform(test_predict)"
      ],
      "metadata": {
        "id": "X8w6DcVAAPFo"
      },
      "execution_count": 81,
      "outputs": []
    },
    {
      "cell_type": "code",
      "source": [
        "# Calculating the Root Mean Square Error performance metrics (RMSE) for Training Data.\n",
        "\n",
        "import math\n",
        "from sklearn.metrics import mean_squared_error\n",
        "math.sqrt(mean_squared_error(y_train, train_predict))"
      ],
      "metadata": {
        "colab": {
          "base_uri": "https://localhost:8080/"
        },
        "id": "onG74_x6Aowt",
        "outputId": "799cca3c-f255-46e3-e515-3d60438af28f"
      },
      "execution_count": 82,
      "outputs": [
        {
          "output_type": "execute_result",
          "data": {
            "text/plain": [
              "122.78158305542424"
            ]
          },
          "metadata": {},
          "execution_count": 82
        }
      ]
    },
    {
      "cell_type": "code",
      "source": [
        "# Calculating the Root Mean Square Error performance metrics (RMSE) for Testing Data.\n",
        "math.sqrt(mean_squared_error(ytest, test_predict))"
      ],
      "metadata": {
        "colab": {
          "base_uri": "https://localhost:8080/"
        },
        "id": "lKuqx6OTBC1J",
        "outputId": "2ad1cebf-3360-4b75-8572-aba2b73f8f7d"
      },
      "execution_count": 83,
      "outputs": [
        {
          "output_type": "execute_result",
          "data": {
            "text/plain": [
              "174.54060269201847"
            ]
          },
          "metadata": {},
          "execution_count": 83
        }
      ]
    },
    {
      "cell_type": "code",
      "source": [
        "# PLOTTING THE GRAPH BASED ON ACTUAL VALUES, TRAINING PREDICTIONS & TESTING PREDICTIONS.\n",
        "\n",
        "## shifting Training Predictions for plotting\n",
        "look_back = 100\n",
        "trainPredictPlot = np.empty_like(df1)\n",
        "trainPredictPlot[:, :] = np.nan\n",
        "trainPredictPlot[look_back:len(train_predict)+look_back, :] = train_predict\n",
        "\n",
        "## shifting Testing Predictions for plotting\n",
        "testPredictPlot = np.empty_like(df1)\n",
        "testPredictPlot[:, :] = np.nan\n",
        "testPredictPlot[len(train_predict)+(look_back*2)+1:len(df1)-1, :] = test_predict\n",
        "\n",
        "## Plotting baseline and predictions all together.\n",
        "plt.plot(scaler.inverse_transform(df1))\n",
        "plt.plot(trainPredictPlot)\n",
        "plt.plot(testPredictPlot)\n",
        "plt.show()"
      ],
      "metadata": {
        "colab": {
          "base_uri": "https://localhost:8080/",
          "height": 430
        },
        "id": "L0aJEPg8BNSS",
        "outputId": "d8c9cfa5-4039-4f54-fc43-21155841a29b"
      },
      "execution_count": 84,
      "outputs": [
        {
          "output_type": "display_data",
          "data": {
            "text/plain": [
              "<Figure size 640x480 with 1 Axes>"
            ],
            "image/png": "[encoded data removed]"
          },
          "metadata": {}
        }
      ]
    },
    {
      "cell_type": "code",
      "source": [
        "len(test_data)"
      ],
      "metadata": {
        "colab": {
          "base_uri": "https://localhost:8080/"
        },
        "id": "z0ZWoem1DTZ5",
        "outputId": "6e2e5cdd-e3e8-4412-b3f9-91f37836b94d"
      },
      "execution_count": 85,
      "outputs": [
        {
          "output_type": "execute_result",
          "data": {
            "text/plain": [
              "378"
            ]
          },
          "metadata": {},
          "execution_count": 85
        }
      ]
    },
    {
      "cell_type": "code",
      "source": [
        "x_input = test_data[278:].reshape(1,-1)\n",
        "x_input.shape"
      ],
      "metadata": {
        "colab": {
          "base_uri": "https://localhost:8080/"
        },
        "id": "Pwriu5hhDZEA",
        "outputId": "aac3ca03-3c5b-4979-cc46-061425e793fb"
      },
      "execution_count": 86,
      "outputs": [
        {
          "output_type": "execute_result",
          "data": {
            "text/plain": [
              "(1, 100)"
            ]
          },
          "metadata": {},
          "execution_count": 86
        }
      ]
    },
    {
      "cell_type": "code",
      "source": [
        "temp_input = list(x_input)\n",
        "temp_input = temp_input[0].tolist()"
      ],
      "metadata": {
        "id": "CinTQhWZI9qi"
      },
      "execution_count": 87,
      "outputs": []
    },
    {
      "cell_type": "code",
      "source": [
        "## Prediction for the next 30 days.\n",
        "from numpy import array\n",
        "\n",
        "lst_output=[]\n",
        "n_steps=100\n",
        "i=0\n",
        "while(i<30):\n",
        "\n",
        "    if(len(temp_input)>100):\n",
        "        #print(temp_input)\n",
        "        x_input=np.array(temp_input[1:])\n",
        "        #print(\"{} day input {}\".format(i,x_input))\n",
        "        x_input=x_input.reshape(1,-1)\n",
        "        x_input = x_input.reshape((1, n_steps, 1))\n",
        "        #print(x_input)\n",
        "        yhat = model.predict(x_input, verbose=0)\n",
        "        print(\"{} day output {}\".format(i+1,yhat))\n",
        "        temp_input.extend(yhat[0].tolist())\n",
        "        temp_input=temp_input[1:]\n",
        "        #print(temp_input)\n",
        "        lst_output.extend(yhat.tolist())\n",
        "        i=i+1\n",
        "    else:\n",
        "        x_input = x_input.reshape((1, n_steps,1))\n",
        "        yhat = model.predict(x_input, verbose=0)\n",
        "        print(yhat[0])\n",
        "        temp_input.extend(yhat[0].tolist())\n",
        "        print(len(temp_input))\n",
        "        lst_output.extend(yhat.tolist())\n",
        "        i=i+1\n",
        "\n",
        "\n",
        "print(lst_output)"
      ],
      "metadata": {
        "colab": {
          "base_uri": "https://localhost:8080/"
        },
        "id": "RsIgObjAJSJP",
        "outputId": "99082ff6-4c8b-4d0d-dc57-e529de2dc58b"
      },
      "execution_count": 88,
      "outputs": [
        {
          "output_type": "stream",
          "name": "stdout",
          "text": [
            "[0.817897]\n",
            "101\n",
            "2 day output [[0.8138305]]\n",
            "3 day output [[0.8117118]]\n",
            "4 day output [[0.8106031]]\n",
            "5 day output [[0.80996746]]\n",
            "6 day output [[0.8095343]]\n",
            "7 day output [[0.8091796]]\n",
            "8 day output [[0.80884826]]\n",
            "9 day output [[0.80851173]]\n",
            "10 day output [[0.8081499]]\n",
            "11 day output [[0.8077445]]\n",
            "12 day output [[0.8072816]]\n",
            "13 day output [[0.8067496]]\n",
            "14 day output [[0.80614305]]\n",
            "15 day output [[0.8054605]]\n",
            "16 day output [[0.80470383]]\n",
            "17 day output [[0.803879]]\n",
            "18 day output [[0.8029941]]\n",
            "19 day output [[0.80205804]]\n",
            "20 day output [[0.801081]]\n",
            "21 day output [[0.8000721]]\n",
            "22 day output [[0.79904133]]\n",
            "23 day output [[0.797997]]\n",
            "24 day output [[0.7969468]]\n",
            "25 day output [[0.79589736]]\n",
            "26 day output [[0.7948546]]\n",
            "27 day output [[0.79382294]]\n",
            "28 day output [[0.7928058]]\n",
            "29 day output [[0.7918066]]\n",
            "30 day output [[0.7908267]]\n",
            "[[0.8178970217704773], [0.8138304948806763], [0.8117117881774902], [0.8106030821800232], [0.8099674582481384], [0.8095343112945557], [0.8091796040534973], [0.8088482618331909], [0.8085117340087891], [0.8081498742103577], [0.8077445030212402], [0.8072816133499146], [0.8067495822906494], [0.806143045425415], [0.805460512638092], [0.8047038316726685], [0.8038790225982666], [0.8029940724372864], [0.8020580410957336], [0.8010810017585754], [0.8000720739364624], [0.7990413308143616], [0.797996997833252], [0.7969468235969543], [0.795897364616394], [0.7948545813560486], [0.7938229441642761], [0.7928057909011841], [0.7918065786361694], [0.790826678276062]]\n"
          ]
        }
      ]
    },
    {
      "cell_type": "code",
      "source": [
        "# these are the 100 days we have from the test data\n",
        "day_new = np.arange(1,101)\n",
        "\n",
        "# these are the predicted days according to our model\n",
        "day_pred = np.arange(101,131)"
      ],
      "metadata": {
        "id": "zR4lah4xJXDP"
      },
      "execution_count": 89,
      "outputs": []
    },
    {
      "cell_type": "code",
      "source": [
        "import matplotlib.pyplot as plt"
      ],
      "metadata": {
        "id": "iw6ZcPK0LR-E"
      },
      "execution_count": 90,
      "outputs": []
    },
    {
      "cell_type": "code",
      "source": [
        "len(df1)"
      ],
      "metadata": {
        "colab": {
          "base_uri": "https://localhost:8080/"
        },
        "id": "EXneUqweLU98",
        "outputId": "0ba5e147-4d5e-4e61-bf23-6d641055a9e0"
      },
      "execution_count": 91,
      "outputs": [
        {
          "output_type": "execute_result",
          "data": {
            "text/plain": [
              "1257"
            ]
          },
          "metadata": {},
          "execution_count": 91
        }
      ]
    },
    {
      "cell_type": "code",
      "source": [
        "#plt.plot(day_new,scaler.inverse_transform(df1[1158:]))\n",
        "plt.plot(day_pred,scaler.inverse_transform(lst_output))"
      ],
      "metadata": {
        "colab": {
          "base_uri": "https://localhost:8080/",
          "height": 448
        },
        "id": "iwLh2T0LLuKv",
        "outputId": "0d88e9ee-a4aa-46c1-d146-fdcc897a02d2"
      },
      "execution_count": 92,
      "outputs": [
        {
          "output_type": "execute_result",
          "data": {
            "text/plain": [
              "[<matplotlib.lines.Line2D at 0x7e80b1727730>]"
            ]
          },
          "metadata": {},
          "execution_count": 92
        },
        {
          "output_type": "display_data",
          "data": {
            "text/plain": [
              "<Figure size 640x480 with 1 Axes>"
            ],
            "image/png": "[encoded data removed]"
          },
          "metadata": {}
        }
      ]
    },
    {
      "cell_type": "code",
      "source": [
        "df3=df1.tolist()\n",
        "df3.extend(lst_output)\n",
        "plt.plot(df3[1000:])"
      ],
      "metadata": {
        "colab": {
          "base_uri": "https://localhost:8080/",
          "height": 448
        },
        "id": "qiXxGcPwMV0Q",
        "outputId": "32c3558c-6b12-4952-d535-adf897a463c1"
      },
      "execution_count": 93,
      "outputs": [
        {
          "output_type": "execute_result",
          "data": {
            "text/plain": [
              "[<matplotlib.lines.Line2D at 0x7e80b16c4400>]"
            ]
          },
          "metadata": {},
          "execution_count": 93
        },
        {
          "output_type": "display_data",
          "data": {
            "text/plain": [
              "<Figure size 640x480 with 1 Axes>"
            ],
            "image/png": "[encoded data removed]"
          },
          "metadata": {}
        }
      ]
    }
  ]
}